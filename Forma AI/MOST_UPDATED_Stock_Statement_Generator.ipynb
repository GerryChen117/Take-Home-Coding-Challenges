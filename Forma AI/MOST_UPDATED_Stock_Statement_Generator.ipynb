{
  "nbformat": 4,
  "nbformat_minor": 0,
  "metadata": {
    "colab": {
      "name": "Stock_Statement_Generator_Ready.ipynb",
      "provenance": [],
      "collapsed_sections": [],
      "include_colab_link": true
    },
    "kernelspec": {
      "name": "python3",
      "display_name": "Python 3"
    }
  },
  "cells": [
    {
      "cell_type": "markdown",
      "metadata": {
        "id": "view-in-github",
        "colab_type": "text"
      },
      "source": [
        "<a href=\"https://colab.research.google.com/github/GerryChen117/Python-Coding-Challenges/blob/main/MOST_UPDATED_Stock_Statement_Generator.ipynb\" target=\"_parent\"><img src=\"https://colab.research.google.com/assets/colab-badge.svg\" alt=\"Open In Colab\"/></a>"
      ]
    },
    {
      "cell_type": "markdown",
      "metadata": {
        "id": "cy5UY3LujNMr"
      },
      "source": [
        "# Stock Statement Generator"
      ]
    },
    {
      "cell_type": "markdown",
      "metadata": {
        "id": "jlekhKtgjVAP"
      },
      "source": [
        "For ease of coding and testing, I used Google Colab to write this document. Link to the Colab: https://colab.research.google.com/drive/1Eve6tqEf2HjH1q9MYKyPSSRX3WWpgxx6?usp=sharing"
      ]
    },
    {
      "cell_type": "code",
      "metadata": {
        "colab": {
          "base_uri": "https://localhost:8080/"
        },
        "id": "rASjQe6-TtZk",
        "outputId": "b924d52e-5020-45e1-8ba3-ecf8d5879f92"
      },
      "source": [
        "# Mount the Drive.\r\n",
        "from google.colab import drive\r\n",
        "drive.mount('/content/drive')"
      ],
      "execution_count": 1,
      "outputs": [
        {
          "output_type": "stream",
          "text": [
            "Mounted at /content/drive\n"
          ],
          "name": "stdout"
        }
      ]
    },
    {
      "cell_type": "markdown",
      "metadata": {
        "id": "cW03Zlo_1N-o"
      },
      "source": [
        "For all my process work, see: https://colab.research.google.com/drive/1KlF8hW0gAE8GL0pJPROoKITpUWzoLp0i?usp=sharing "
      ]
    },
    {
      "cell_type": "code",
      "metadata": {
        "id": "YXmcItrrUSsp"
      },
      "source": [
        "# Import the libraries I will use. \r\n",
        "import json\r\n",
        "import time"
      ],
      "execution_count": 3,
      "outputs": []
    },
    {
      "cell_type": "markdown",
      "metadata": {
        "id": "3znaDNSipE1i"
      },
      "source": [
        "All that is required for the user of this code to do is change the 'file_input_directory' (containing the json file) and the 'file_output_directory' (where they want to store the text file). "
      ]
    },
    {
      "cell_type": "code",
      "metadata": {
        "id": "aEuxmTVyUUDz"
      },
      "source": [
        "# Load the data into a variable from a json file. \r\n",
        "file_input_directory = \"/content/drive/MyDrive/Forma/input.json\"\r\n",
        "f = open(file_input_directory, \"r\")\r\n",
        "data = json.load(f)\r\n",
        "\r\n",
        "# This variable is important to tell the algorithm where to spit out the text file. \r\n",
        "file_output_directory = \"/content/drive/MyDrive/Forma/output.txt\""
      ],
      "execution_count": 4,
      "outputs": []
    },
    {
      "cell_type": "markdown",
      "metadata": {
        "id": "TDEYCdVLmbOl"
      },
      "source": [
        "### The relevant 'universal' Python code begins here. "
      ]
    },
    {
      "cell_type": "code",
      "metadata": {
        "id": "hyuNJtQTUNm0"
      },
      "source": [
        "# Import the libraries I will use. \r\n",
        "import json\r\n",
        "import time\r\n",
        "\r\n",
        "class stock_info_class:\r\n",
        "  \"\"\" A class used to hold the information of each stock. Stocks will be easily referenced by 'ticker' or 'stock' name via a dictionary. \"\"\" \r\n",
        "\r\n",
        "  def __init__(self, ticker, price, shares):\r\n",
        "    self.stock_name = ticker\r\n",
        "    self.price_per_share = float(price)\r\n",
        "    self.num_shares = int(shares)\r\n",
        "  \r\n",
        "  def __call__(self):\r\n",
        "    return \"   - %d shares of %s at $%.2f per share\\n\" %(self.num_shares, self.stock_name, self.price_per_share)\r\n",
        "\r\n",
        "class quote_class:\r\n",
        "  \"\"\" A class that holds the items to be inserted into the text file for every date. \r\n",
        "      A dictionary will be used to store these classes, referenced by date, and will be iterated through to generate the text file. \r\n",
        "      Many of these quotes are generated right when their respective actions are performed. \"\"\"\r\n",
        "\r\n",
        "  def __init__(self, just_the_date, transaction_quote, dividend_quote, stock_quotes):\r\n",
        "    self.transaction_quote = [transaction_quote]  # Initialized as an array to allow for multiple transaction statements to fall under the same date even if they are of different actions.\r\n",
        "    self.dividend_quote = dividend_quote\r\n",
        "    self.stock_quotes = stock_quotes\r\n",
        "    self.just_the_date = just_the_date\r\n",
        "\r\n",
        "# The main stock statement generation class. \r\n",
        "class StockStateGen:\r\n",
        "  #def __init__(self, file_input_directory, file_output_directory):\r\n",
        "  def __init__(self):\r\n",
        "    \"\"\" This class would have accepted the parameters 'data' as data loaded from a json file and 'output_directory' as a string. \r\n",
        "        In my most recent version of this, the user is asked for inputs about the input and output paths and the class does the rest. \"\"\"\r\n",
        "\r\n",
        "    # Load in the data, containing both the user's 'actions' and the 'stock_actions', into a global class variable.\r\n",
        "    file_input_directory = input(\"Where is your file input directory (with json file): \")  \r\n",
        "    f = open(file_input_directory, \"r\")\r\n",
        "    self.data = json.load(f)\r\n",
        "\r\n",
        "    # Initiate a Nested Dictionary containing 'stock_info_class' for each stock (stock information like name, price per share, and number of shares).\r\n",
        "    self.stock_info = {}\r\n",
        "\r\n",
        "    # Initiate an accumulator to hold overall dividend income. \r\n",
        "    self.total_dividend = 0.00\r\n",
        "\r\n",
        "    # Initiate a Nested Dictionary that holds 'quote_class' objects, which contains all the statements we wish to print for each date.\r\n",
        "    self.dict_of_actions = {}\r\n",
        "\r\n",
        "    # Load a global class variable with the output location for the text file.\r\n",
        "    file_output_directory = input(\"Where is your file output directory (for text file): \")   \r\n",
        "    self.output_directory = file_output_directory\r\n",
        "\r\n",
        "  # Checks if stock is in the nested dictionary, \"stock_info\", already. \r\n",
        "  def stock_exist(self, ticker):\r\n",
        "    if ticker in self.stock_info:\r\n",
        "      return True\r\n",
        "    else:\r\n",
        "      return False\r\n",
        "\r\n",
        "  # If stock is not in nested dictionary of \"stock_info\", initialize a stock class for it in the dictionary. Only called when the user first buys a new stock. \r\n",
        "  def new_stock_info(self, ticker, price, shares):\r\n",
        "    self.stock_info[ticker] = stock_info_class(ticker, price, shares)\r\n",
        "    return None\r\n",
        "\r\n",
        "  # Buying stocks could change the price per share of the stock in your inventory. This function accounts for that. \r\n",
        "  # It calculates total amount of money you put into this stock and divides it by the total number of shares you have now. \r\n",
        "  def price_per_share_adjustments(self, ticker, price, shares):\r\n",
        "    past_shares = self.stock_info[ticker].num_shares\r\n",
        "    past_price = self.stock_info[ticker].price_per_share\r\n",
        "    \r\n",
        "    total_shares = past_shares + int(shares)\r\n",
        "    total_investment = (past_shares*past_price) + float(price)*int(shares)\r\n",
        "    return total_investment/total_shares\r\n",
        "\r\n",
        "  # Increase number of shares in specified stock. Might add feature to know total money spent later. Generates the respective buy stock quote. \r\n",
        "  def buy_stock(self, ticker, price, shares):\r\n",
        "    # If the stock exists in the \"stock_info\" dictionary, we simply adjust price per share if applicable and increase its number of shares.\r\n",
        "    if self.stock_exist(ticker):\r\n",
        "      # change stock price if necessary\r\n",
        "      self.stock_info[ticker].price_per_share = self.price_per_share_adjustments(ticker, price, shares)\r\n",
        "      self.stock_info[ticker].num_shares += int(shares)\r\n",
        "    \r\n",
        "    # If the stock is not in the \"stock_info\" dictionary, we initiate the class using the information of purchase. \r\n",
        "    else:\r\n",
        "      self.new_stock_info(ticker, price, shares)\r\n",
        "    return \"   - You bought %s shares of %s at a price of $%.2f per share\\n\" %(shares, ticker, float(price))\r\n",
        "\r\n",
        "  # Decrease the number of shares in specified stock. Generates the respective sell stock quote. \r\n",
        "  def sell_stock(self, ticker, price, shares):\r\n",
        "    self.stock_info[ticker].num_shares -= int(shares)\r\n",
        "    # To account for profit or loss when selling stocks. \r\n",
        "    past_shares = self.stock_info[ticker].price_per_share\r\n",
        "    profit = float(price)*float(shares) - float(shares)*past_shares\r\n",
        "\r\n",
        "    # Remove stock_info entry if no shares remaining, assuming you can't sell more than you bought. \r\n",
        "    if self.stock_info[ticker].num_shares == 0:\r\n",
        "      self.stock_info.pop(ticker, None)\r\n",
        "\r\n",
        "    # To account for different scenarios:\r\n",
        "    if profit > 0:\r\n",
        "      return \"   - You sold %s shares of %s at a price of $%.2f per share for a profit of $%.2f\\n\" %(shares, ticker, float(price), float(profit))\r\n",
        "    elif profit < 0:\r\n",
        "      return \"   - You sold %s shares of %s at a price of $%.2f per share for a loss of $%.2f\\n\" %(shares, ticker, float(price), float(profit))\r\n",
        "    else:\r\n",
        "      return \"   - You sold %s shares of %s at a price of $%.2f per share with neither a profit or loss of $%.2f\\n\" %(shares, ticker, float(price), float(profit))\r\n",
        "\r\n",
        "  # Convert the dates (strings) into a format available for comparison.\r\n",
        "  def date_format(self, date):\r\n",
        "    try:\r\n",
        "      python_date = time.strptime(date, \"%Y/%m/%d %H:%M:%S\")\r\n",
        "    except:\r\n",
        "      python_date = time.strptime(date, \"%Y/%m/%d\")\r\n",
        "    return python_date\r\n",
        "\r\n",
        "  # Changes the price per share of the specified stock. Used when splits occur. \r\n",
        "  def change_ppshare(self, ticker, new_price):\r\n",
        "    self.stock_info[ticker].price_per_share = float(new_price)\r\n",
        "    return None\r\n",
        "\r\n",
        "  # Changes the number of shares of the specified stock. Used when splits occur. \r\n",
        "  def change_numshare(self, ticker, new_num):\r\n",
        "    self.stock_info[ticker].num_shares = int(new_num)\r\n",
        "    return None\r\n",
        "\r\n",
        "  # Used to split the specified stock based on the split ratio when provided. \r\n",
        "  def stock_split(self, ticker, split_ratio):\r\n",
        "    try:\r\n",
        "      price = self.stock_info[ticker].price_per_share\r\n",
        "      quantity = self.stock_info[ticker].num_shares\r\n",
        "\r\n",
        "      new_ppshare = price/float(split_ratio)\r\n",
        "      new_numshare = quantity*int(split_ratio)\r\n",
        "\r\n",
        "      self.change_ppshare(ticker, new_ppshare)\r\n",
        "      self.change_numshare(ticker, new_numshare)\r\n",
        "      return \"   - %s split %s to 1, and you have %d shares\\n\" %(ticker, split_ratio, new_numshare)\r\n",
        "\r\n",
        "    # To account for an exception when the user didn't buy any of the stocks that were split and the stock doesn't exist in the dictionary stock_info:\r\n",
        "    except:\r\n",
        "      return \"\"\r\n",
        "\r\n",
        "  # Calculates the dividend for the specified stock when a 'stock_actions' requests it.\r\n",
        "  def pay_dividend(self, ticker, dividend):\r\n",
        "    try:\r\n",
        "      quantity = self.stock_info[ticker].num_shares\r\n",
        "      pay = float(dividend)*quantity\r\n",
        "      self.total_dividend += pay\r\n",
        "      return \"   - %s paid out $%.2f dividend per share, and you have %d shares\\n\" %(ticker, float(dividend), quantity)\r\n",
        "\r\n",
        "    # To account for an exception when the user didn't buy any of the stocks paying dividends and the stock doesn't exist in the dictionary stock_info:\r\n",
        "    except:\r\n",
        "      return \"\"\r\n",
        "\r\n",
        "  # Displays the overall dividend income in the specified format.\r\n",
        "  def show_total_dividend(self):\r\n",
        "    return \"   - $%.2f of dividend income\\n\" %(self.total_dividend)\r\n",
        "\r\n",
        "  # This is the main function to process both user and stock actions. Respective quotes to add to the text file are returned.\r\n",
        "  def transactions(self, act_iter):\r\n",
        "    \"\"\" Since 'actions' and 'stock_actions' from the json file store different information, a KeyError may arise.\r\n",
        "        The try and except statements help to differentiate between the two form of actions and allow for quotes to be processed respectively. \"\"\"\r\n",
        "    try:\r\n",
        "      date = act_iter['date']\r\n",
        "      dividend = act_iter['dividend']\r\n",
        "      split = act_iter['split']\r\n",
        "      ticker = act_iter['stock']\r\n",
        "\r\n",
        "      # Assuming the stock actions are either a split or a dividend, not both at the same action iteration. \r\n",
        "      if split != \"\" and dividend == \"\":\r\n",
        "        split_ratio = int(split)\r\n",
        "        result = self.stock_split(ticker, split_ratio)\r\n",
        "\r\n",
        "      if dividend != \"\" and split == \"\":\r\n",
        "        dividendd = float(dividend)\r\n",
        "        result = self.pay_dividend(ticker,dividendd)\r\n",
        "      return result\r\n",
        "\r\n",
        "    except:\r\n",
        "      date = act_iter['date']\r\n",
        "      action = act_iter['action']\r\n",
        "      price = act_iter['price']\r\n",
        "      ticker = act_iter['ticker']\r\n",
        "      shares = act_iter['shares']\r\n",
        "\r\n",
        "      # If stock exists, we perform buy or sell \r\n",
        "      if action == 'BUY':\r\n",
        "        result = self.buy_stock(ticker, price, shares)\r\n",
        "      else:\r\n",
        "        result = self.sell_stock(ticker, price, shares)\r\n",
        "      return result\r\n",
        "\r\n",
        "  # Convert the dates (strings) into a format available for comparison.\r\n",
        "  def timeformat(self, act_iter):\r\n",
        "    return self.date_format(act_iter['date'])\r\n",
        "  \r\n",
        "  # Combine both 'actions' and 'stock_actions' from the json file into one array of dictionaries, where each dictionary is an action. \r\n",
        "  # Actions are sorted chronological order by their date. \r\n",
        "  def sort_actions_by_time(self, data):\r\n",
        "    data_together = data['actions'] + data['stock_actions']\r\n",
        "    sorted_data = sorted(data_together, key=self.timeformat) \r\n",
        "    return sorted_data\r\n",
        "\r\n",
        "  # Initiates a quote_class for an action if this is the first time action performed at that date. \r\n",
        "  def generate_quote_class(self, just_the_date, transaction_quote, dividend_quote,stock_quotes):\r\n",
        "    self.dict_of_actions[just_the_date] = quote_class(just_the_date, transaction_quote, dividend_quote, stock_quotes)\r\n",
        "    return None\r\n",
        "\r\n",
        "  # If a quote_class has already been initiated for a date, we simply update the quotes printed for that date to account for all actions performed.\r\n",
        "  # Note that special consideration has been granted to the transaction_quote section, as all transactions in a day are noted down together. \r\n",
        "  def alter_quote_class(self, just_the_date, transaction_quote, dividend_quote, stock_quotes):\r\n",
        "    self.dict_of_actions[just_the_date].stock_quotes = stock_quotes\r\n",
        "    self.dict_of_actions[just_the_date].dividend_quote = dividend_quote\r\n",
        "    self.dict_of_actions[just_the_date].transaction_quote.append(transaction_quote)\r\n",
        "    return None\r\n",
        "\r\n",
        "  # Build the Nested Dictionary (dict_of_actions).\r\n",
        "  def build_dict_of_actions(self):\r\n",
        "    \"\"\"\r\n",
        "    self.actions = data['actions']\r\n",
        "    self.stock_actions = data['stock_actions']\r\n",
        "    self.dict_of_actions = {}\r\n",
        "    \"\"\"\r\n",
        "    # Method 1: We combine the two lists into one and sort by date. Then we do the things incrementally. \r\n",
        "    data = self.data\r\n",
        "    sorted_data = self.sort_actions_by_time(data)\r\n",
        "    prev_tuple_time = None\r\n",
        "    # Example of act: {'date': '1992/07/14 11:12:30', 'action': 'BUY', 'price': '12.3', 'ticker': 'AAPL', 'shares': '500'}\r\n",
        "    # The following is used to generate a quote_class per action: \r\n",
        "    for act in sorted_data:\r\n",
        "      date_struct_time = self.timeformat(act)\r\n",
        "      just_the_date = time.strftime(\"%Y-%m-%d\", date_struct_time)\r\n",
        "      # if the dates are the same, everything else is replaced but transaction_quote, which shows all the transactions at the same date. \r\n",
        "      #if self.dict_of_actions.has_key(just_the_date):\r\n",
        "      if just_the_date in self.dict_of_actions:\r\n",
        "\r\n",
        "        transaction_quote = self.transactions(act)\r\n",
        "        dividend_quote = self.show_total_dividend()\r\n",
        "        stock_quotes = []\r\n",
        "        for stock_class in self.stock_info:\r\n",
        "          stock_quotes.append(self.stock_info.get(stock_class)())  ## iterate through a dictionary and use call on each to display text, save to an array \r\n",
        "        self.alter_quote_class(just_the_date, transaction_quote, dividend_quote, stock_quotes)\r\n",
        "      else:\r\n",
        "        transaction_quote = self.transactions(act)\r\n",
        "        dividend_quote = self.show_total_dividend()\r\n",
        "        stock_quotes = []\r\n",
        "        for stock_class in self.stock_info:\r\n",
        "          stock_quotes.append(self.stock_info.get(stock_class)())\r\n",
        "        # Generate the quote class\r\n",
        "        self.generate_quote_class(just_the_date, transaction_quote, dividend_quote, stock_quotes)\r\n",
        "\r\n",
        "    return None\r\n",
        "\r\n",
        "  # Write to Text File by iterating through every Nested Dictionary (dict_of_actions) entry and fetching the respective quotes. \r\n",
        "  def write_to_text(self):\r\n",
        "    with open(self.output_directory, 'w+') as reader:\r\n",
        "      for each_quote_class in self.dict_of_actions:\r\n",
        "        # To remove actions that don't effect transaction statements, ex. stock paying dividend when user doesn't own stock\r\n",
        "        if self.dict_of_actions[each_quote_class].transaction_quote != [\"\"]:\r\n",
        "          date = self.dict_of_actions[each_quote_class].just_the_date\r\n",
        "          transaction_quote = self.dict_of_actions[each_quote_class].transaction_quote\r\n",
        "          dividend_quote = self.dict_of_actions[each_quote_class].dividend_quote\r\n",
        "          stock_quotes = self.dict_of_actions[each_quote_class].stock_quotes\r\n",
        "\r\n",
        "          reader.write(\"On %s, you have:\\n\" %(date))\r\n",
        "          for itemz in stock_quotes: \r\n",
        "            reader.write(itemz)\r\n",
        "          reader.write(dividend_quote)\r\n",
        "          reader.write(\"  Transactions:\\n\")\r\n",
        "          for itemz in transaction_quote:\r\n",
        "            reader.write(itemz)\r\n",
        "        else:\r\n",
        "          continue\r\n",
        "    return None\r\n",
        "  \r\n",
        "  # An easy way for users to implement everything above with one line of code. \r\n",
        "  def __call__(self):\r\n",
        "    self.build_dict_of_actions()\r\n",
        "    self.write_to_text()"
      ],
      "execution_count": 6,
      "outputs": []
    },
    {
      "cell_type": "code",
      "metadata": {
        "id": "eUFbpnXxUkIf",
        "colab": {
          "base_uri": "https://localhost:8080/"
        },
        "outputId": "ef5b1a35-afc1-42ec-997c-699b38ceff3e"
      },
      "source": [
        "#test1 = StockStateGen(data, file_output_directory)\r\n",
        "test1 = StockStateGen()\r\n",
        "test1()"
      ],
      "execution_count": 7,
      "outputs": [
        {
          "output_type": "stream",
          "text": [
            "Where is your file input directory (with json file): /content/drive/MyDrive/Forma/input.json\n",
            "Where is your file output directory (for text file): /content/drive/MyDrive/Forma/output1.txt\n"
          ],
          "name": "stdout"
        }
      ]
    },
    {
      "cell_type": "code",
      "metadata": {
        "id": "FwE9uEQYtmor"
      },
      "source": [
        ""
      ],
      "execution_count": null,
      "outputs": []
    }
  ]
}